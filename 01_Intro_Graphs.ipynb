{
  "nbformat": 4,
  "nbformat_minor": 0,
  "metadata": {
    "colab": {
      "name": "01_Intro_Graphs.ipynb",
      "provenance": [],
      "include_colab_link": true
    },
    "kernelspec": {
      "name": "python3",
      "display_name": "Python 3"
    },
    "language_info": {
      "name": "python"
    }
  },
  "cells": [
    {
      "cell_type": "markdown",
      "metadata": {
        "id": "view-in-github",
        "colab_type": "text"
      },
      "source": [
        "<a href=\"https://colab.research.google.com/github/riccardomarin/prog_algo_2022/blob/main/01_Intro_Graphs.ipynb\" target=\"_parent\"><img src=\"https://colab.research.google.com/assets/colab-badge.svg\" alt=\"Open In Colab\"/></a>"
      ]
    },
    {
      "cell_type": "markdown",
      "source": [
        "Scrivere codice può essere un buon modo per testare idee, trovare controesempi, o farsi un'idea se una certa proprietà può essere vera o meno (insomma, un buono strumento per studiare da soli a casa.\n",
        "\n",
        "La libreria più classica di python per lavorare con i grafi è networkx\n",
        "essa contiene molti algoritmi e strutture dati già pensate per lavorare\n",
        "con i grafi.\n",
        "Trovate qui alcuni tutorial base sul suo utilizzo: \n",
        "https://networkx.org/documentation/stable/tutorial.html"
      ],
      "metadata": {
        "id": "SYmejpQYcncb"
      }
    },
    {
      "cell_type": "code",
      "execution_count": null,
      "metadata": {
        "id": "qEV_P_HUC-vR"
      },
      "outputs": [],
      "source": [
        "import networkx as nx\n",
        "import numpy as np"
      ]
    },
    {
      "cell_type": "markdown",
      "source": [
        "Per creare un grafo, possiamo partire da una matrice di adiacenza.\n",
        "Per esempio, se volessimo un grafo di 7 nodi, partiamo con una matrice 7x7 di zeri"
      ],
      "metadata": {
        "id": "Wfz9HFl3dn83"
      }
    },
    {
      "cell_type": "code",
      "source": [
        "A = np.zeros((7,7))\n",
        "print(A)"
      ],
      "metadata": {
        "id": "ZA9D_uYZdN8c"
      },
      "execution_count": null,
      "outputs": []
    },
    {
      "cell_type": "markdown",
      "source": [
        "Ora popoliamo la matrice con gli archi che ci interessano, cioè mettiamo 1 dove gli archi sono presenti e 0 dove non lo sono."
      ],
      "metadata": {
        "id": "QnsyKCPPduMo"
      }
    },
    {
      "cell_type": "code",
      "source": [
        "A[0,1]=A[0,5]=A[0,6]=1\n",
        "A[1,6]=A[1,2]=1\n",
        "A[3,4]=A[3,2]=A[3,6]=1\n",
        "A[4,5]=A[4,6]=1\n",
        "A[6,2]=A[6,5]=1\n",
        "\n",
        "print(A)"
      ],
      "metadata": {
        "id": "lITrjD8gdfXB"
      },
      "execution_count": null,
      "outputs": []
    },
    {
      "cell_type": "markdown",
      "source": [
        "Usando il metodo \"nx.Graph(A)\" possiamo creare una struttura dati con tutto quello che può servirci per lavorare sul grafo associato alla matrice A.\n",
        "\n",
        "Nota: \"nx.Graph(A)\" crea un grafo non diretto."
      ],
      "metadata": {
        "id": "MbVgwn4id9Ja"
      }
    },
    {
      "cell_type": "code",
      "source": [
        "G = nx.Graph(A)"
      ],
      "metadata": {
        "id": "6FJP7Rced57j"
      },
      "execution_count": null,
      "outputs": []
    },
    {
      "cell_type": "markdown",
      "source": [
        "Possiamo anche visualizzarlo facilmente, con il metodo \"nx.draw(G)\".\n",
        "Alcuni argomenti utili della funzione:\n",
        "- \"with_labels=True\" -> fa in modo che la visualizzazione scriva il numero sui nodi (più facile distinguerli)\n",
        "- \"font_weight='bold'\" -> fa in modo che le scritte siano in grassetto (più leggibili)"
      ],
      "metadata": {
        "id": "qEk4ffXKeGca"
      }
    },
    {
      "cell_type": "code",
      "source": [
        "nx.draw(G,with_labels=True, font_weight='bold', )"
      ],
      "metadata": {
        "id": "ijpUco78kWUy"
      },
      "execution_count": null,
      "outputs": []
    },
    {
      "cell_type": "markdown",
      "source": [
        "Notate che anche se ho specificato solo alcuni archi, networkx non fa differenza, perché abbiamo specificato che il grafo è non diretto. \n",
        "Con \"nx.DiGraph(A)\" possiamo invece ottenere un grafo diretto, dove quindi saranno considerati solo i nodi effettivamente inseriti."
      ],
      "metadata": {
        "id": "_N3N5UORefJT"
      }
    },
    {
      "cell_type": "code",
      "source": [
        "G = nx.DiGraph(A)\n",
        "\n",
        "# Lo visualizzo con lo stesso comando di prima\n",
        "nx.draw(G,with_labels=True, font_weight='bold', )"
      ],
      "metadata": {
        "id": "DgU0ZDjMe5wP"
      },
      "execution_count": null,
      "outputs": []
    },
    {
      "cell_type": "markdown",
      "source": [
        "La disposizione dei nodi sul piano 2D è una scelta che la libreria risolve in autonomia; non stupiamoci se a volte non corrisponderà a quello che ci siamo disegnati sul foglio, perché ci sono molte visualizzazioni possibili. Ma possiamo impostarle noi a mano, oppure sfruttare altri layout disponibili. Ad esempio:"
      ],
      "metadata": {
        "id": "J58LBzv1fF8X"
      }
    },
    {
      "cell_type": "code",
      "source": [
        "pos = nx.spectral_layout(G)\n",
        "\n",
        "# Disegna il grafo specificando delle posizioni.\n",
        "# NOTA: potete anche creare il vostro \"pos\" e posizionare i nodi\n",
        "#       nel piano\n",
        "\n",
        "nx.draw(G,with_labels=True, font_weight='bold',pos=pos )"
      ],
      "metadata": {
        "id": "P8VPzJGhfr-I"
      },
      "execution_count": null,
      "outputs": []
    },
    {
      "cell_type": "markdown",
      "source": [
        "Proviamo a fare una piccola demo per verificare l'algoritmo di bicolorazione visto a lezione:"
      ],
      "metadata": {
        "id": "qJusS7uUfrmN"
      }
    },
    {
      "cell_type": "code",
      "source": [
        "# Algoritmo di bicolorazione: potete trovarlo sulle slide della lezione!\n",
        "def colora(G):\n",
        "  def DFSr(x,G,colori,c):\n",
        "    colore[x]=c\n",
        "    for y in G[x]:\n",
        "      if colore[int(y)]==-1:\n",
        "        DFSr(y,G,colore,1-c)\n",
        "  colore = [-1 for v in G]\n",
        "  DFSr(0, G, colore, 0)\n",
        "  return colore "
      ],
      "metadata": {
        "id": "bnewH02IFPxM"
      },
      "execution_count": null,
      "outputs": []
    },
    {
      "cell_type": "markdown",
      "source": [
        "Ora creiamo un grafo ciclo con un certo numero \"k\" di nodi. Il grafo ciclo dovrà connettere ogni nodo con il successivo, e poi alla fine l'ultimo nodo con il primo"
      ],
      "metadata": {
        "id": "Wkdo5OMUhRXa"
      }
    },
    {
      "cell_type": "code",
      "source": [
        "k = 10\n",
        "\n",
        "# Inizializzo la matrice di adiacenza\n",
        "A = np.zeros((k,k))\n",
        "\n",
        "# Per ogni nodo, aggiungo l'arco in posizione +1 e quello in posizione -1\n",
        "for i in range(len(A)-1):\n",
        "  A[i,i+1]=1\n",
        "  A[i,i-1]=1\n",
        "\n",
        "# collego l'ultimo con il primo\n",
        "A[len(A)-1,len(A)-2] = A[len(A)-1,0]=1\n",
        "\n",
        "# Stampo la matrice di adiacenza\n",
        "print(f\"Matrice di adiacenza:\\n{A}\\n\")\n",
        "\n",
        "# Creo il grafo e lo visualizzo\n",
        "G = nx.Graph(A)\n",
        "nx.draw(G,with_labels=True, font_weight='bold')"
      ],
      "metadata": {
        "id": "CgrM1-J3Ysz5"
      },
      "execution_count": null,
      "outputs": []
    },
    {
      "cell_type": "markdown",
      "source": [
        "Il nostro codice è pensato per lavorare con liste di adiacenza, e non lo abbiamo in nessun modo integrato con NetworkX. La cosa bella è che non ce ne dobbiamo preoccupare, la libreria è già pronta per poterci lavorare così!"
      ],
      "metadata": {
        "id": "QYX1NSS7i9k0"
      }
    },
    {
      "cell_type": "code",
      "source": [
        "# Lancio il mio algoritmo su G\n",
        "colori = colora(G)\n",
        "print(colori)"
      ],
      "metadata": {
        "id": "6Q5rrAv9aWZA"
      },
      "execution_count": null,
      "outputs": []
    },
    {
      "cell_type": "markdown",
      "source": [
        "Visualiziamo adesso la colorazione ottenuta"
      ],
      "metadata": {
        "id": "qPw_zB8QjUv4"
      }
    },
    {
      "cell_type": "code",
      "source": [
        "# ci basta aggiungere l'argomento \"node_color\", seguito da un vettore che contenga\n",
        "# per ogni nodo un numero da usare per la colorazione. \n",
        "\n",
        "nx.draw(G, with_labels=True, font_weight='bold',  arrows=True, node_color=colori)"
      ],
      "metadata": {
        "id": "ykSORsVIjXNW"
      },
      "execution_count": null,
      "outputs": []
    },
    {
      "cell_type": "markdown",
      "source": [
        "Proviamo a creare un caso più interessante: potremmo ad esempio provarlo sugli alberi:"
      ],
      "metadata": {
        "id": "2bOrIl-Yjwxx"
      }
    },
    {
      "cell_type": "code",
      "source": [
        "G = nx.random_tree(30)\n",
        "nx.draw(G, with_labels=True, font_weight='bold')"
      ],
      "metadata": {
        "id": "4X2tLo9IkIQF"
      },
      "execution_count": null,
      "outputs": []
    },
    {
      "cell_type": "markdown",
      "source": [
        "Proviamo a bi-colorarlo:"
      ],
      "metadata": {
        "id": "-WpgjT1JkVwb"
      }
    },
    {
      "cell_type": "code",
      "source": [
        "colori = colora(G)\n",
        "nx.draw(G, with_labels=True, font_weight='bold',node_color=colori)"
      ],
      "metadata": {
        "id": "z7BtLsWFkJxY"
      },
      "execution_count": null,
      "outputs": []
    },
    {
      "cell_type": "markdown",
      "source": [
        "Qual è il tempo di esecuzione di questo algoritmo? Sappiamo che il costo teorico è $O(|V| + |E|).\n",
        "\n",
        "Verifichiamolo, provandolo su degli alberi."
      ],
      "metadata": {
        "id": "l3yLFGH6lpuy"
      }
    },
    {
      "cell_type": "code",
      "source": [
        "from time import time               # Fornisce funzioni di timing\n",
        "from progressbar import progressbar # Fornisce una utile progressbar\n",
        "durate_tree = []\n",
        "\n",
        "# Proviamo i grafi con nodi tra 2 e 300\n",
        "for i in progressbar(range(2,300)):\n",
        "  durata = 0\n",
        "\n",
        "  # Visto che proveremo esempi a caso, faremo la media su 100 istanze\n",
        "  for _ in range(100):\n",
        "    G = nx.random_tree(i) # Nota: il tempo di generazione del grafo non è misurata\n",
        "    start = time()        #       perché non fa parte dell'algoritmo.\n",
        "    # == START ==\n",
        "    colori = colora(G)\n",
        "    # == STOP ==\n",
        "    durata = durata + (time() - start)\n",
        "\n",
        "  # Salvo la media delle istanze \n",
        "  durate_tree.append(durata/100)"
      ],
      "metadata": {
        "id": "ubcSGW8Llo35"
      },
      "execution_count": null,
      "outputs": []
    },
    {
      "cell_type": "code",
      "source": [
        "# Visualizzo la durata\n",
        "import matplotlib.pyplot as plt \n",
        "plt.plot(durate_tree)"
      ],
      "metadata": {
        "id": "mtW2N-5ekcNs"
      },
      "execution_count": null,
      "outputs": []
    },
    {
      "cell_type": "markdown",
      "source": [
        "Proviamo ora con un grafo più denso: creiamo un grafo che connette tutti i nodi pari con tutti i nodi dispari. Questo grafo ha per ogni vertice $\\frac{n}{2}$ archi; quindi in totale il grafo conterà un numero di archi quadratico:\n",
        "\n",
        "$|E| = n(\\frac{n}{2}) = \\frac{n^2}{2}$\n",
        "\n",
        "Potete prendervi qualche minuto per convincervi che questa famiglia di grafi è bicolorabile."
      ],
      "metadata": {
        "id": "qYoRVtnOtt3V"
      }
    },
    {
      "cell_type": "code",
      "source": [
        "# Ad esempio, costruiamo un grafo di 6 nodi in questa maniera\n",
        "i = 6\n",
        "A = np.zeros((i,i))\n",
        "A[1::2,::2] = 1\n",
        "A[::2,1::2] = 1\n",
        "\n",
        "# Stampo la matrice di adiacenza\n",
        "print(f\"Matrice di adiacenza:\\n{A}\\n\")\n",
        "\n",
        "# Creo il grafo, lo coloro e visualizzo\n",
        "G = nx.Graph(A)\n",
        "colori = colora(G)\n",
        "nx.draw(G, with_labels=True, font_weight='bold',node_color=colori)"
      ],
      "metadata": {
        "id": "DrArYG7epgSJ"
      },
      "execution_count": null,
      "outputs": []
    },
    {
      "cell_type": "markdown",
      "source": [
        "Veniamo alla nostra misurazione delle tempistiche:"
      ],
      "metadata": {
        "id": "AKWaWeX_0Lka"
      }
    },
    {
      "cell_type": "code",
      "source": [
        "from time import time \n",
        "from time import time \n",
        "from progressbar import progressbar\n",
        "\n",
        "durate_dense = []\n",
        "for i in progressbar(range(2,300)):\n",
        "  # Creo il grafo (nota: in questo caso dato un numero di nodi esiste un unico\n",
        "  # grafo, per cui ci limiteremo a misurare il tempo di una esecuzione)\n",
        "  A = np.zeros((i,i))\n",
        "  A[1::2,::2] = 1\n",
        "  A[::2,1::2] = 1\n",
        "  G = nx.Graph(A)\n",
        "  start = time()\n",
        "  ## START ##\n",
        "  colori = colora(G)\n",
        "  ## STOP ##\n",
        "  durata = (time() - start)\n",
        "  durate_dense.append(durata)\n"
      ],
      "metadata": {
        "id": "ANjQ8BD1mKyi"
      },
      "execution_count": null,
      "outputs": []
    },
    {
      "cell_type": "markdown",
      "source": [
        "Visualizziamo l'andamento al crescere del numero di nodi:"
      ],
      "metadata": {
        "id": "sqmLoCMM0OZT"
      }
    },
    {
      "cell_type": "code",
      "source": [
        "plt.plot(durate_dense,color='r')"
      ],
      "metadata": {
        "id": "40u1p6zMm1rO"
      },
      "execution_count": null,
      "outputs": []
    },
    {
      "cell_type": "markdown",
      "source": [
        "Possiamo anche confrontare le due esecuzioni mettendole nello stesso grafico. Confrontiamole per i grafi con numero di nodi da 2 a 50."
      ],
      "metadata": {
        "id": "eayXp7Ay0RFq"
      }
    },
    {
      "cell_type": "code",
      "source": [
        "plt.plot(durate_tree[0:49], color='b')\n",
        "plt.plot(durate_dense[0:49],color='r')"
      ],
      "metadata": {
        "id": "cOeqxjPJm8vS"
      },
      "execution_count": null,
      "outputs": []
    }
  ]
}