{
  "nbformat": 4,
  "nbformat_minor": 0,
  "metadata": {
    "colab": {
      "name": "03_ponti.ipynb",
      "provenance": [],
      "authorship_tag": "ABX9TyOvVITNi9NTcUvKjQJGOp+b",
      "include_colab_link": true
    },
    "kernelspec": {
      "name": "python3",
      "display_name": "Python 3"
    },
    "language_info": {
      "name": "python"
    }
  },
  "cells": [
    {
      "cell_type": "markdown",
      "metadata": {
        "id": "view-in-github",
        "colab_type": "text"
      },
      "source": [
        "<a href=\"https://colab.research.google.com/github/riccardomarin/prog_algo_2022/blob/main/03_ponti.ipynb\" target=\"_parent\"><img src=\"https://colab.research.google.com/assets/colab-badge.svg\" alt=\"Open In Colab\"/></a>"
      ]
    },
    {
      "cell_type": "markdown",
      "source": [
        "Proviamo ad analizzare l'algoritmo dei ponti:"
      ],
      "metadata": {
        "id": "IDKwnaSDb9E5"
      }
    },
    {
      "cell_type": "code",
      "source": [
        "## Alcuni caratteri speciali che ci saranno utili per i nostri log\n",
        "CRED = '\\033[91m'\n",
        "CEND = '\\033[0m'\n",
        "\n",
        "CYEL = '\\033[4m'\n",
        "CBLUE = '\\33[34m'"
      ],
      "metadata": {
        "id": "VS4HGInvdeOO"
      },
      "execution_count": null,
      "outputs": []
    },
    {
      "cell_type": "code",
      "source": [
        "### INSERISCO QUI L'ALGORITMO DELLE SLIDE COME RIFERIMENTO\n",
        "def ponti(G):\n",
        "  def DFSr(x, G, Tempo, padre, archi_ponte):\n",
        "    nonlocal t\n",
        "    t+=1\n",
        "    ret = Tempo[x] = t\n",
        "    for y in G[x]:\n",
        "      if Tempo[y] == 0:\n",
        "        a = DFSr(y, G, Tempo, x, archi_ponte)\n",
        "        if Tempo[x]<a: \n",
        "          archi_ponte.add((x,y))\n",
        "        ret = min(ret,a)\n",
        "      elif y!= padre:\n",
        "        ret = min(ret, Tempo[y])\n",
        "    return ret\n",
        "  Tempo = [0 for _ in G]\n",
        "  t=0\n",
        "  archi_ponte = set()\n",
        "  DFSr(0, G, Tempo, 0, archi_ponte)\n",
        "  print(Tempo)\n",
        "  return archi_ponte"
      ],
      "metadata": {
        "id": "nFUN-wfQJQ3E"
      },
      "execution_count": null,
      "outputs": []
    },
    {
      "cell_type": "code",
      "execution_count": null,
      "metadata": {
        "id": "kQXklGonBgWJ"
      },
      "outputs": [],
      "source": [
        "### ECCO UNA VERSIONE CON UN LOG ESPLICITO DI COSA ACCADE ALL'INTERNO\n",
        "### DELL'ALGORITMO\n",
        "\n",
        "def ponti(G):\n",
        "  def DFSr(x, G, Tempo, padre, archi_ponte):\n",
        "    print(f\"{CYEL} Sono nel nodo:{x} {CEND}\")\n",
        "    nonlocal t\n",
        "    t+=1\n",
        "    ret = Tempo[x] = t\n",
        "\n",
        "    print(f\" Il mio tempo vale:{t}\")\n",
        "    for y in G[x]:\n",
        "      print(f\"  Guardo verso il nodo {y} che ha tempo {Tempo[y]}\")\n",
        "      if Tempo[y] == 0:\n",
        "        a = DFSr(y, G, Tempo, x, archi_ponte)\n",
        "        print(f\"  finita la visita a:{y}\")\n",
        "        if Tempo[x]<a: \n",
        "          print(f\"  {CBLUE}{Tempo[x]} < {a}: L'arco ({x}, {y}) è ponte!{CEND}\")\n",
        "          archi_ponte.add((x,y))\n",
        "\n",
        "        print(f\"  min({ret},{a})\")  \n",
        "        ret = min(ret,a)\n",
        "      elif y!= padre:\n",
        "        print(f\"  {y} già visitato e mio padre era {padre}: guardo quale tempo mi conviene tra ret={ret} e Tempo[y] = {Tempo[y]}\")  \n",
        "        ret = min(ret, Tempo[y])\n",
        "\n",
        "    print(f\"{CRED}Esco da nodo:{x} - Sull'arco ({padre},{x}) comunico: {ret} {CEND}\")\n",
        "    return ret\n",
        "\n",
        "  Tempo = [0 for _ in G]\n",
        "  t=0\n",
        "  archi_ponte = set()\n",
        "  DFSr(0, G, Tempo, 0, archi_ponte)\n",
        "  print(Tempo)\n",
        "  return archi_ponte"
      ]
    },
    {
      "cell_type": "markdown",
      "source": [
        "Dall'esempio delle slides"
      ],
      "metadata": {
        "id": "B04BgR2MLtq9"
      }
    },
    {
      "cell_type": "code",
      "source": [
        "import numpy\n",
        "import networkx as nx\n",
        "\n",
        "lista = {0: [3,4,5,8],\n",
        "     1: [2,7],\n",
        "     2: [1,6,7],\n",
        "     3: [0,4,7],\n",
        "     4: [0,3],\n",
        "     5: [0,8],\n",
        "     6: [2],\n",
        "     7: [1,2,3],\n",
        "     8: [0,5]}\n",
        "\n",
        "G = nx.Graph(lista)\n",
        "\n",
        "p = ponti(G)\n",
        "print(p)"
      ],
      "metadata": {
        "id": "jCQvONncCC0f"
      },
      "execution_count": null,
      "outputs": []
    },
    {
      "cell_type": "markdown",
      "source": [
        "Per visualizzare meglio il risultato, posso colorare gli archi ponte"
      ],
      "metadata": {
        "id": "Ys864GOgL0Fs"
      }
    },
    {
      "cell_type": "code",
      "source": [
        "# Definisco il layout\n",
        "pos = nx.spring_layout(G)\n",
        "# Disegno tutto il grafo\n",
        "nx.draw(G, pos=pos)\n",
        "# Marco in rosso gli archi ponte\n",
        "nx.draw_networkx_edges(G,pos,edgelist=p,edge_color='r',width=3)"
      ],
      "metadata": {
        "colab": {
          "base_uri": "https://localhost:8080/",
          "height": 337
        },
        "id": "QfhPannxDCzQ",
        "outputId": "bd2301fe-1c1a-4da7-e72b-4a2df84e050f"
      },
      "execution_count": null,
      "outputs": [
        {
          "output_type": "execute_result",
          "data": {
            "text/plain": [
              "<matplotlib.collections.LineCollection at 0x7f2a6ee78cd0>"
            ]
          },
          "metadata": {},
          "execution_count": 25
        },
        {
          "output_type": "display_data",
          "data": {
            "text/plain": [
              "<Figure size 432x288 with 1 Axes>"
            ],
            "image/png": "[encoded data removed]"
          },
          "metadata": {}
        }
      ]
    },
    {
      "cell_type": "markdown",
      "source": [
        "Proviamo con un altro grafo"
      ],
      "metadata": {
        "id": "dKLfni5XMTy2"
      }
    },
    {
      "cell_type": "code",
      "source": [
        "lista = {0: [8,7,6],\n",
        "     1: [9,8],\n",
        "     2: [7,6,5,2],\n",
        "     3: [7],\n",
        "     4: [7],\n",
        "     5: [6,2],\n",
        "     6: [5,2,0],\n",
        "     7: [4,3,2,0],\n",
        "     8: [9,1,0],\n",
        "     9: [8,1]}\n",
        "\n",
        "p = ponti(lista)"
      ],
      "metadata": {
        "colab": {
          "base_uri": "https://localhost:8080/"
        },
        "id": "uSZ5Ryq_PrOm",
        "outputId": "0bfc1ca7-9527-4c0d-a171-c3cf5abcc649"
      },
      "execution_count": null,
      "outputs": [
        {
          "output_type": "stream",
          "name": "stdout",
          "text": [
            "\u001b[4m Sono nel nodo:0 \u001b[0m\n",
            " Il mio tempo vale:1\n",
            "  Guardo verso il nodo 8 che ha tempo 0\n",
            "\u001b[4m Sono nel nodo:8 \u001b[0m\n",
            " Il mio tempo vale:2\n",
            "  Guardo verso il nodo 9 che ha tempo 0\n",
            "\u001b[4m Sono nel nodo:9 \u001b[0m\n",
            " Il mio tempo vale:3\n",
            "  Guardo verso il nodo 8 che ha tempo 2\n",
            "  Guardo verso il nodo 1 che ha tempo 0\n",
            "\u001b[4m Sono nel nodo:1 \u001b[0m\n",
            " Il mio tempo vale:4\n",
            "  Guardo verso il nodo 9 che ha tempo 3\n",
            "  Guardo verso il nodo 8 che ha tempo 2\n",
            "  8 già visitato e mio padre era 9: guardo quale tempo mi conviene tra ret=4 e Tempo[y] = 2\n",
            "\u001b[91mEsco da nodo:1 - Sull'arco (9,1) comunico: 2 \u001b[0m\n",
            "  finita la visita a:1\n",
            "  min(3,2)\n",
            "\u001b[91mEsco da nodo:9 - Sull'arco (8,9) comunico: 2 \u001b[0m\n",
            "  finita la visita a:9\n",
            "  min(2,2)\n",
            "  Guardo verso il nodo 1 che ha tempo 4\n",
            "  1 già visitato e mio padre era 0: guardo quale tempo mi conviene tra ret=2 e Tempo[y] = 4\n",
            "  Guardo verso il nodo 0 che ha tempo 1\n",
            "\u001b[91mEsco da nodo:8 - Sull'arco (0,8) comunico: 2 \u001b[0m\n",
            "  finita la visita a:8\n",
            "  \u001b[34m1 < 2: L'arco (0, 8) è ponte!\u001b[0m\n",
            "  min(1,2)\n",
            "  Guardo verso il nodo 7 che ha tempo 0\n",
            "\u001b[4m Sono nel nodo:7 \u001b[0m\n",
            " Il mio tempo vale:5\n",
            "  Guardo verso il nodo 4 che ha tempo 0\n",
            "\u001b[4m Sono nel nodo:4 \u001b[0m\n",
            " Il mio tempo vale:6\n",
            "  Guardo verso il nodo 7 che ha tempo 5\n",
            "\u001b[91mEsco da nodo:4 - Sull'arco (7,4) comunico: 6 \u001b[0m\n",
            "  finita la visita a:4\n",
            "  \u001b[34m5 < 6: L'arco (7, 4) è ponte!\u001b[0m\n",
            "  min(5,6)\n",
            "  Guardo verso il nodo 3 che ha tempo 0\n",
            "\u001b[4m Sono nel nodo:3 \u001b[0m\n",
            " Il mio tempo vale:7\n",
            "  Guardo verso il nodo 7 che ha tempo 5\n",
            "\u001b[91mEsco da nodo:3 - Sull'arco (7,3) comunico: 7 \u001b[0m\n",
            "  finita la visita a:3\n",
            "  \u001b[34m5 < 7: L'arco (7, 3) è ponte!\u001b[0m\n",
            "  min(5,7)\n",
            "  Guardo verso il nodo 2 che ha tempo 0\n",
            "\u001b[4m Sono nel nodo:2 \u001b[0m\n",
            " Il mio tempo vale:8\n",
            "  Guardo verso il nodo 7 che ha tempo 5\n",
            "  Guardo verso il nodo 6 che ha tempo 0\n",
            "\u001b[4m Sono nel nodo:6 \u001b[0m\n",
            " Il mio tempo vale:9\n",
            "  Guardo verso il nodo 5 che ha tempo 0\n",
            "\u001b[4m Sono nel nodo:5 \u001b[0m\n",
            " Il mio tempo vale:10\n",
            "  Guardo verso il nodo 6 che ha tempo 9\n",
            "  Guardo verso il nodo 2 che ha tempo 8\n",
            "  2 già visitato e mio padre era 6: guardo quale tempo mi conviene tra ret=10 e Tempo[y] = 8\n",
            "\u001b[91mEsco da nodo:5 - Sull'arco (6,5) comunico: 8 \u001b[0m\n",
            "  finita la visita a:5\n",
            "  min(9,8)\n",
            "  Guardo verso il nodo 2 che ha tempo 8\n",
            "  Guardo verso il nodo 0 che ha tempo 1\n",
            "  0 già visitato e mio padre era 2: guardo quale tempo mi conviene tra ret=8 e Tempo[y] = 1\n",
            "\u001b[91mEsco da nodo:6 - Sull'arco (2,6) comunico: 1 \u001b[0m\n",
            "  finita la visita a:6\n",
            "  min(8,1)\n",
            "  Guardo verso il nodo 5 che ha tempo 10\n",
            "  5 già visitato e mio padre era 7: guardo quale tempo mi conviene tra ret=1 e Tempo[y] = 10\n",
            "  Guardo verso il nodo 2 che ha tempo 8\n",
            "  2 già visitato e mio padre era 7: guardo quale tempo mi conviene tra ret=1 e Tempo[y] = 8\n",
            "\u001b[91mEsco da nodo:2 - Sull'arco (7,2) comunico: 1 \u001b[0m\n",
            "  finita la visita a:2\n",
            "  min(5,1)\n",
            "  Guardo verso il nodo 0 che ha tempo 1\n",
            "\u001b[91mEsco da nodo:7 - Sull'arco (0,7) comunico: 1 \u001b[0m\n",
            "  finita la visita a:7\n",
            "  min(1,1)\n",
            "  Guardo verso il nodo 6 che ha tempo 9\n",
            "  6 già visitato e mio padre era 0: guardo quale tempo mi conviene tra ret=1 e Tempo[y] = 9\n",
            "\u001b[91mEsco da nodo:0 - Sull'arco (0,0) comunico: 1 \u001b[0m\n",
            "[1, 4, 8, 7, 6, 10, 9, 5, 2, 3]\n"
          ]
        }
      ]
    }
  ]
}