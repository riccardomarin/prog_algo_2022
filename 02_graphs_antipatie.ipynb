{
  "nbformat": 4,
  "nbformat_minor": 0,
  "metadata": {
    "colab": {
      "name": "02_graphs_antipatie.ipynb",
      "provenance": [],
      "authorship_tag": "ABX9TyNMO6qmKOf7gcqiQ8VDBkXB",
      "include_colab_link": true
    },
    "kernelspec": {
      "name": "python3",
      "display_name": "Python 3"
    },
    "language_info": {
      "name": "python"
    }
  },
  "cells": [
    {
      "cell_type": "markdown",
      "metadata": {
        "id": "view-in-github",
        "colab_type": "text"
      },
      "source": [
        "<a href=\"https://colab.research.google.com/github/riccardomarin/prog_algo_2022/blob/main/02_graphs_antipatie.ipynb\" target=\"_parent\"><img src=\"https://colab.research.google.com/assets/colab-badge.svg\" alt=\"Open In Colab\"/></a>"
      ]
    },
    {
      "cell_type": "code",
      "execution_count": null,
      "metadata": {
        "id": "hBiU0CPX3Jth"
      },
      "outputs": [],
      "source": [
        "import networkx as nx\n",
        "import numpy as np\n",
        "import random"
      ]
    },
    {
      "cell_type": "markdown",
      "source": [
        "Mostriamo l'implementazione del nostro algoritmo per colorare il grafo delle antipatie.\n",
        "\n",
        "Abbiamo visto che per ipotesi può esserci un solo arco problematico. Quindi condurremo la nostra DFS per bicolorare il grafo. Se dovessimo accorgerci che questo non è possibile, modificheremo il colore di un nodo, per tricolorare il grafo."
      ],
      "metadata": {
        "id": "Cf11WWfk3OiQ"
      }
    },
    {
      "cell_type": "code",
      "source": [
        "# Algoritmo di colorazione per le antipatie\n",
        "def colora(G):\n",
        "  # == DFS ricorsiva ==\n",
        "  def DFSr(x,G,colori,c):\n",
        "    colori[x] = c\n",
        "    nonlocal n_group\n",
        "    for y in G[x]:\n",
        "      if colori[int(y)]==-1:\n",
        "        DFSr(y,G,colori,1-c)\n",
        "        n_group = max(2, n_group)\n",
        "      # Aggiungiamo il caso in cui la colorazione\n",
        "      # di x abbia rotto la bicolorazione. In tal\n",
        "      # caso, y era già colorato -> ecco l'arco problematico!\n",
        "      if colori[x] == colori[int(y)]:\n",
        "        colori[x] = 2\n",
        "        n_group = 3\n",
        "  # ====================\n",
        "\n",
        "  # Inizializzazione il colore\n",
        "  colore = [-1 for v in G]\n",
        "  n_group = 1\n",
        "  # Per tutti i nodi\n",
        "  for i in range(len(colore)):\n",
        "    # Se nodo non è ancora colorato\n",
        "    if colore[i] == -1:\n",
        "      DFSr(i, G, colore, 0)\n",
        "\n",
        "  return colore, n_group"
      ],
      "metadata": {
        "id": "Yti69aX13Nx0"
      },
      "execution_count": null,
      "outputs": []
    },
    {
      "cell_type": "markdown",
      "source": [
        "Ora testiamo il nostro algoritmo su un po' di istanze. Ci creiamo un codice che, data una lista di antipatie, ne genera il grafo associato."
      ],
      "metadata": {
        "id": "Cp8DzPTLIf_0"
      }
    },
    {
      "cell_type": "code",
      "source": [
        "def grafo_antipatie(antipatie):\n",
        "  d = []\n",
        "  for i in range(k):\n",
        "    # Consideriamo il caso in cui nella lista ci sia una persona\n",
        "    # che ha espresso antipatia verso sé stessa come un errore da ignorare\n",
        "    if antipatie[i] != -1 and antipatie[i] != i:\n",
        "      d.append((i,antipatie[i])) \n",
        "      d.append((antipatie[i],i))\n",
        "  return d"
      ],
      "metadata": {
        "id": "zqLYCUwY8Q98"
      },
      "execution_count": null,
      "outputs": []
    },
    {
      "cell_type": "code",
      "source": [
        "# Consideriamo k studenti\n",
        "k = 10\n",
        "\n",
        "# Generiamo casualmente un vettore che possa prendere i valori\n",
        "# tra -1 e k\n",
        "antipatie = np.random.choice(range(-1,k),k)\n",
        "d = grafo_antipatie(antipatie)\n",
        "print(f\"Le antipiatie dichiarate sono:{antipatie}\")\n",
        "print(f\"Corrisondenti liste di adiacenza:{d}\")\n",
        "\n",
        "# Uso networkx per crare il grafo\n",
        "G = nx.Graph()\n",
        "G.add_nodes_from(range(0,k))  # Se non si aggiungono i nodi, networkx perderà\n",
        "                              # i nodi senza archi incidenti (non sa che esistono)\n",
        "G.add_edges_from(d)\n",
        "\n",
        "# Lancio il mio algoritmo\n",
        "colori,n_gruppi = colora(G)\n",
        "\n",
        "# Stampo i risultati\n",
        "print(f\"Numero gruppi: {n_gruppi}\")\n",
        "print(f\"Colori assegnati:{colori}\")\n",
        "\n",
        "# Disegno il risultato\n",
        "nx.draw(G, with_labels=True, font_weight='bold', node_color=colori)\n",
        "\n",
        "# Già che ci sono, faccio un check per vedere se il mio algoritmo funziona\n",
        "for i in d:\n",
        "  assert(colori[i[0]] != colori[i[1]])"
      ],
      "metadata": {
        "id": "nsYC8_MrJCxU"
      },
      "execution_count": null,
      "outputs": []
    },
    {
      "cell_type": "markdown",
      "source": [
        "Facciamo un test di correttezza più esaustivo: proviamo per un gran numero di grafi e controlliamo se per qualcuno di loro va in errore."
      ],
      "metadata": {
        "id": "m3pekaIvKTnR"
      }
    },
    {
      "cell_type": "code",
      "source": [
        "from progressbar import progressbar\n",
        "\n",
        "for k in progressbar(range(3,100)):\n",
        "  for j in range(0,300):\n",
        "    antipatie = np.random.choice(range(-1,k),k)\n",
        "    d = grafo_antipatie(antipatie)\n",
        "\n",
        "    G = nx.Graph()\n",
        "    G.add_nodes_from(range(0,k))  \n",
        "    G.add_edges_from(d)\n",
        "\n",
        "    colori,_ = colora(G)\n",
        "\n",
        "    for i in d:\n",
        "      assert(colori[i[0]] != colori[i[1]])"
      ],
      "metadata": {
        "id": "s5E1w-a9LB-8"
      },
      "execution_count": null,
      "outputs": []
    },
    {
      "cell_type": "markdown",
      "source": [
        "Proviamo ora a valutare il tempo di questo algoritmo:"
      ],
      "metadata": {
        "id": "4VJU-FcZNI24"
      }
    },
    {
      "cell_type": "code",
      "source": [
        "from time import time               # Fornisce funzioni di timing\n",
        "durate_random = []\n",
        "\n",
        "# Proviamo i grafi con nodi tra 2 e 300\n",
        "for k in progressbar(range(3,250)):\n",
        "  durata = 0\n",
        "  # Visto che proveremo esempi a caso, faremo la media su 100 istanze\n",
        "  for _ in range(100):\n",
        "    # Creo l'istanza\n",
        "    antipatie = np.random.choice(range(-1,k),k)\n",
        "    d = grafo_antipatie(antipatie)\n",
        "    # == START ==         \n",
        "    start = time()        # Conto il costo di creazione del grafo\n",
        "    G = nx.Graph()        # perché fa parte della soluzione proposta.\n",
        "    G.add_nodes_from(range(0,k))  \n",
        "    G.add_edges_from(d)\n",
        "    colori = colora(G)\n",
        "    # == STOP ==\n",
        "    durata = durata + (time() - start)\n",
        "\n",
        "  # Salvo la media delle istanze \n",
        "  durate_random.append(durata/100)"
      ],
      "metadata": {
        "id": "GUVPHGBQNHv1"
      },
      "execution_count": null,
      "outputs": []
    },
    {
      "cell_type": "code",
      "source": [
        "import matplotlib.pyplot as plt \n",
        "plt.plot(durate_random)"
      ],
      "metadata": {
        "id": "GvsMZmbGLa72"
      },
      "execution_count": null,
      "outputs": []
    },
    {
      "cell_type": "markdown",
      "source": [
        "Proviamo a considerare un'altra famiglia di grafi possibili. Consideriamo grafi connessi con $|V|$ archi. Questi sono alberi (quindi con $|V|-1$ archi) a cui aggiungiamo un ulteriore arco che prima non era presente."
      ],
      "metadata": {
        "id": "fdGR445AN5Uz"
      }
    },
    {
      "cell_type": "code",
      "source": [
        "k = 10\n",
        "\n",
        "# Uso network per generare un albero random con k nodi\n",
        "G = nx.random_tree(k)\n",
        "\n",
        "# Estraggo la matrice di adiacenza associata\n",
        "A = nx.to_numpy_matrix(G)\n",
        "\n",
        "# Calcolo il grafo complemento\n",
        "# NOTA: faccio in modo che la diagonale non sia considerata\n",
        "A_c = ((A - 1) * -1) - np.diag(np.ones((len(A),)))\n",
        "\n",
        "# Guardo gli archi che partecipano al complemento\n",
        "missing_edges = np.where(A_c)\n",
        "\n",
        "# Ne scelgo uno a caso\n",
        "idx = random.choice(range(0, len(missing_edges[0])))\n",
        "\n",
        "# Lo aggiungo al mio grafo iniziale\n",
        "A[missing_edges[0][idx],missing_edges[1][idx]] = 1\n",
        "A[missing_edges[1][idx],missing_edges[0][idx]] = 1\n",
        "\n",
        "# Coloro il nuovo grafo\n",
        "G = nx.Graph(A)\n",
        "colori,_ = colora(G)\n",
        "\n",
        "# Disegno il risultato\n",
        "nx.draw(G, with_labels=True, font_weight='bold', node_color=colori)\n",
        "\n",
        "# Già che ci sono, faccio un check per vedere se il mio algoritmo funziona\n",
        "for i in range(k):\n",
        "  for j in range(k):\n",
        "    if A[i,j]==1:\n",
        "      assert(colori[i] != colori[j])"
      ],
      "metadata": {
        "id": "bYqNuAqcHSTT"
      },
      "execution_count": null,
      "outputs": []
    },
    {
      "cell_type": "markdown",
      "source": [
        "Proviamo a effettuare il timing. Cosa ci aspettiamo?"
      ],
      "metadata": {
        "id": "oq-Q9VlMO5hb"
      }
    },
    {
      "cell_type": "code",
      "source": [
        "from time import time               # Fornisce funzioni di timing\n",
        "durate_tree = []\n",
        "\n",
        "# Proviamo i grafi con nodi tra 2 e 300\n",
        "for k in progressbar(range(3,250)):\n",
        "  durata = 0\n",
        "  # Visto che proveremo esempi a caso, faremo la media su 100 istanze\n",
        "  for _ in range(100):\n",
        "    antipatie = np.random.choice(range(-1,k),k)\n",
        "    d = grafo_antipatie(antipatie)\n",
        "\n",
        "    # == START ==\n",
        "    # Voglio misurare il timing della creazione dell'albero\n",
        "    # ma non dell'operazione di inserire l'arco extra, che è un mio\n",
        "    # artificio solo per creare un'istanza più interessante.\n",
        "    # NOTA: Inserire l'arco lo faccio sulla matrice di adiacenza\n",
        "    #       dove le operazioni facilmente costano O(N^2)\n",
        "\n",
        "    start = time()\n",
        "    G = nx.random_tree(k)\n",
        "    durata = durata + (time() - start)\n",
        "    # == STOP ==\n",
        "\n",
        "    # Estraggo la matrice di adiacenza associata\n",
        "    A = nx.to_numpy_matrix(G)\n",
        "\n",
        "    # Calcolo il grafo complemento\n",
        "    # NOTA: faccio in modo che la diagonale non sia considerata\n",
        "    A_c = ((A - 1) * -1) - np.diag(np.ones((len(A),)))\n",
        "\n",
        "    # Guardo gli archi che partecipano al complemento\n",
        "    missing_edges = np.where(A_c)\n",
        "\n",
        "    # Ne scelgo uno a caso\n",
        "    idx = random.choice(range(0, len(missing_edges[0])))\n",
        "\n",
        "    # Lo aggiungo al mio grafo iniziale\n",
        "    A[missing_edges[0][idx],missing_edges[1][idx]] = 1\n",
        "    A[missing_edges[1][idx],missing_edges[0][idx]] = 1\n",
        "\n",
        "    # == START ==\n",
        "    start = time()     \n",
        "    colori = colora(G)\n",
        "    # == STOP ==\n",
        "    durata = durata + (time() - start)\n",
        "\n",
        "  # Salvo la media delle istanze \n",
        "  durate_tree.append(durata/100)"
      ],
      "metadata": {
        "id": "HzUdlZOgOuf1"
      },
      "execution_count": null,
      "outputs": []
    },
    {
      "cell_type": "code",
      "source": [
        "import matplotlib.pyplot as plt \n",
        "plt.plot(durate_tree)"
      ],
      "metadata": {
        "id": "dLGSWM84P-rp"
      },
      "execution_count": null,
      "outputs": []
    },
    {
      "cell_type": "markdown",
      "source": [
        "Visualizziamo i due timings insieme"
      ],
      "metadata": {
        "id": "TGgEIL06QEiw"
      }
    },
    {
      "cell_type": "code",
      "source": [
        "plt.plot(durate_random,color='b')\n",
        "plt.plot(durate_tree, color='r')"
      ],
      "metadata": {
        "id": "QutWcuURQG4o"
      },
      "execution_count": null,
      "outputs": []
    }
  ]
}