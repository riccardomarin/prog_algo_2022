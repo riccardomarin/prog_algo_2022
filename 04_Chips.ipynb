{
  "nbformat": 4,
  "nbformat_minor": 0,
  "metadata": {
    "colab": {
      "name": "04_Chips.ipynb",
      "provenance": [],
      "authorship_tag": "ABX9TyP3de0+YH53L9+B82Ei6+pj",
      "include_colab_link": true
    },
    "kernelspec": {
      "name": "python3",
      "display_name": "Python 3"
    },
    "language_info": {
      "name": "python"
    }
  },
  "cells": [
    {
      "cell_type": "markdown",
      "metadata": {
        "id": "view-in-github",
        "colab_type": "text"
      },
      "source": [
        "<a href=\"https://colab.research.google.com/github/riccardomarin/prog_algo_2022/blob/main/04_Chips.ipynb\" target=\"_parent\"><img src=\"https://colab.research.google.com/assets/colab-badge.svg\" alt=\"Open In Colab\"/></a>"
      ]
    },
    {
      "cell_type": "markdown",
      "source": [
        "Proviamo a simulare il problema dei chip"
      ],
      "metadata": {
        "id": "Z7olXrEZB92d"
      }
    },
    {
      "cell_type": "code",
      "source": [
        "import random \n",
        "\n",
        "# CHIPS test: prende due chip e li testa a vicenda\n",
        "def pair_test(one,two):\n",
        "  # Se abbiamo passato \"None\" qualcosa non va!\n",
        "  assert one != None\n",
        "  assert two != None \n",
        "\n",
        "  # Avremmo un esito per il primo e per il secondo chip\n",
        "  answer = [None, None]\n",
        "\n",
        "  # Se il chip è Good, allora mi darà l'esito esatto\n",
        "  # del secondo. Altrimenti, ritorna un valore a caso\n",
        "  if one == 'G':\n",
        "    answer[1] = two\n",
        "  else:\n",
        "    answer[1] = random.choice(['G','B'])\n",
        "  \n",
        "  if two == 'G':\n",
        "    answer[0] = one\n",
        "  else:\n",
        "    answer[0] = random.choice(['G','B'])\n",
        "    \n",
        "  return answer "
      ],
      "metadata": {
        "id": "eDqzFtv2ISBH"
      },
      "execution_count": 6,
      "outputs": []
    },
    {
      "cell_type": "code",
      "source": [
        "import numpy as np \n",
        "from random import shuffle \n",
        "import progressbar \n",
        "import time \n",
        "\n",
        "# Procedura per individuare un chip buono:\n",
        "# Input: una lista di chip, e \"indici\" è solo per tenere traccia\n",
        "#        durante le chiamate dei chip residui\n",
        "def test_procedure(L, indici):\n",
        "  G = L.copy()\n",
        "  escluso = None\n",
        "  escluso_idx = None\n",
        "\n",
        "  # Se gli elementi sono dispari, metti da parte l'ultimo elemento\n",
        "  if not((len(L) % 2) == 0):\n",
        "    escluso = G[-1]\n",
        "    G = G[:-1]\n",
        "    escluso_idx = indici[-1]\n",
        "    indici = indici[:-1]\n",
        "\n",
        "  # esegui N\\2 confronti\n",
        "  for i in np.arange(0, len(L)//2):\n",
        "      risultato = pair_test(G[i], G[i + len(L)//2])\n",
        "\n",
        "  # Se entrambi danno segnale positivo, scarta solo uno\n",
        "      if risultato == ['G','G']:\n",
        "        G[i] = None \n",
        "        indici[i] = None\n",
        "      else:\n",
        "  # Altrimenti, scartali entrambi\n",
        "        G[i] = None\n",
        "        G[i + len(L)//2] = None\n",
        "        indici[i] = None\n",
        "        indici[i + len(L)//2] = None\n",
        "\n",
        "  # Se avevamo rimosso un elemento, riportiamolo nella lista\n",
        "  if not(escluso == None):\n",
        "    G.append(escluso)\n",
        "    indici.append(escluso_idx)\n",
        "  \n",
        "  # Puliamo i vettori dagli scarti\n",
        "  G = list(filter(None,G))\n",
        "  indici_2 = list(filter(None,indici))\n",
        "  \n",
        "  # Ferma la procedura quando rimangono 3 o meno chip\n",
        "  if len(G) <= 3:\n",
        "    return G, indici_2\n",
        "  else:\n",
        "    return test_procedure(G, indici_2)\n"
      ],
      "metadata": {
        "id": "aY7qvI7fI-IU"
      },
      "execution_count": 7,
      "outputs": []
    },
    {
      "cell_type": "code",
      "source": [
        "n_istanze = 200\n",
        "\n",
        "# Misuriamo i tempi su un po' di istanze\n",
        "durations = []\n",
        "for i in progressbar.progressbar(np.arange(4,1000)):\n",
        "  d = 0\n",
        "  for k in np.arange(0,n_istanze):\n",
        "    # Per generare l'istanza devo avere più Good che Bad. Quindi\n",
        "    # avrò al più brokens=(i//2) rotti, e poi (i - brokens + 1) \n",
        "    brokens = np.random.choice(np.arange(i//2 - i//4,i//2))\n",
        "    L = ['B'] * brokens + ['G'] * (i - brokens + 1)\n",
        "\n",
        "    # Li permuto random\n",
        "    shuffle(L)\n",
        "    indici = list(np.arange(len(L)))\n",
        "\n",
        "    # == INIZIO TIMING ==\n",
        "    s = time.time() \n",
        "\n",
        "    G, indici = test_procedure(L, indici)\n",
        "\n",
        "    # Se restano 1 o 2 chip, allora sono Good, e ne prendo uno a caso\n",
        "    if len(G) <= 2:\n",
        "      ans = indici[0]\n",
        "    else:\n",
        "    # Altrimenti, testo due chip: se ritorna entrambi Good, allora sono davvero\n",
        "    # buoni e ne prendo uno. Altrimenti, prendo quello che è rimasto fuori\n",
        "      result = pair_test(G[0],G[1])\n",
        "      if result == ['G','G']:\n",
        "        ans = indici[0]\n",
        "      else:\n",
        "        ans = indici[2]\n",
        "    # == FINE TIMING ==\n",
        "    d = d + time.time() - s\n",
        "\n",
        "    # Check di correttezza\n",
        "    assert L[ans] == 'G'\n",
        "\n",
        "  # Calcolo la media del tempo\n",
        "  durations.append(d/n_istanze)"
      ],
      "metadata": {
        "colab": {
          "base_uri": "https://localhost:8080/"
        },
        "id": "4b5yKHRGEwHz",
        "outputId": "c68f81de-54fd-4b34-e175-5a8d99f29aad"
      },
      "execution_count": 30,
      "outputs": [
        {
          "output_type": "stream",
          "name": "stderr",
          "text": [
            "100% (996 of 996) |######################| Elapsed Time: 0:04:31 Time:  0:04:31\n"
          ]
        }
      ]
    },
    {
      "cell_type": "code",
      "source": [
        "import matplotlib.pyplot as plt\n",
        "\n",
        "plt.plot(durations)"
      ],
      "metadata": {
        "colab": {
          "base_uri": "https://localhost:8080/",
          "height": 283
        },
        "id": "mksd4WAFmDkc",
        "outputId": "1d9daf7c-6f90-4f5a-a880-bd0da21ff69a"
      },
      "execution_count": 31,
      "outputs": [
        {
          "output_type": "execute_result",
          "data": {
            "text/plain": [
              "[<matplotlib.lines.Line2D at 0x7fa630259890>]"
            ]
          },
          "metadata": {},
          "execution_count": 31
        },
        {
          "output_type": "display_data",
          "data": {
            "text/plain": [
              "<Figure size 432x288 with 1 Axes>"
            ],
            "image/png": "[encoded data removed]"
          },
          "metadata": {
            "needs_background": "light"
          }
        }
      ]
    }
  ]
}